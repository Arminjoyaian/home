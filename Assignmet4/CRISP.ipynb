{
 "cells": [
  {
   "cell_type": "markdown",
   "id": "e3a861c4",
   "metadata": {},
   "source": [
    "# Business Understanding"
   ]
  },
  {
   "cell_type": "markdown",
   "id": "fbb67c05",
   "metadata": {},
   "source": [
    "### At this stage, a data science expert should know the business on which he wants to do a data mining project well. In the stage of understanding the business, it is necessary to examine the different angles of that business, the limitations, the existing conditions and the goals of that business from the current project or projects. This step prepares the mind of the data scientist to work on the project and allows him to move on to the next steps with more and better knowledge. At this stage, a data science expert can master the existing business to some extent and increase his understanding of that business as much as possible."
   ]
  },
  {
   "cell_type": "markdown",
   "id": "6df3f313",
   "metadata": {},
   "source": [
    "#### _____________________________________________________________________________________________"
   ]
  },
  {
   "cell_type": "markdown",
   "id": "6ce2eac5",
   "metadata": {},
   "source": [
    "# Data Understanding"
   ]
  },
  {
   "cell_type": "markdown",
   "id": "1e6d4450",
   "metadata": {},
   "source": [
    "### In the data understanding stage, the data science specialist looks at the existing business data to start the project. At this stage, operations such as \"exploratory data analysis - EDA\" and making preliminary reports from the data can be very helpful. By understanding the data and understanding its different dimensions and features, different ideas can be proposed and the main structure of the project can be determined. At this stage, the quality of the data can also be evaluated and if the data is inappropriate, it can be improved with the consultation and participation of different parts of the business."
   ]
  },
  {
   "cell_type": "markdown",
   "id": "2bdaaa1e",
   "metadata": {},
   "source": [
    "#### _____________________________________________________________________________________________________"
   ]
  },
  {
   "cell_type": "markdown",
   "id": "d76eed44",
   "metadata": {},
   "source": [
    "# Data Preparation"
   ]
  },
  {
   "cell_type": "markdown",
   "id": "2fcc30c4",
   "metadata": {},
   "source": [
    "### After understanding the business and understanding the data, now the data can be prepared for analysis and modeling. If you have studied the data preprocessing course in Chitio, you can probably easily understand this step. In this step, the dirty data is cleaned and the data is structurally prepared for the next step. At this stage, it is also possible to combine different data sets to get a better and higher quality data set."
   ]
  },
  {
   "cell_type": "markdown",
   "id": "62e28d3a",
   "metadata": {},
   "source": [
    "#### ________________________________________________________________________________________"
   ]
  },
  {
   "cell_type": "markdown",
   "id": "92c0394f",
   "metadata": {},
   "source": [
    "# Modeling"
   ]
  },
  {
   "cell_type": "markdown",
   "id": "2594a217",
   "metadata": {},
   "source": [
    "### Depending on what kind of problem your problem is, you should use your own algorithms and methods at this stage. For example, if your problem is data classification, you should use classification algorithms for learning, or if your problem falls into the category of clustering, you can use one of the clustering algorithms for your project. Of course, in a data mining project, there may be different and combined problems that require more complex modeling operations."
   ]
  },
  {
   "cell_type": "markdown",
   "id": "951821cf",
   "metadata": {},
   "source": [
    "#### _________________________________________________________________________________________"
   ]
  },
  {
   "cell_type": "markdown",
   "id": "735368b4",
   "metadata": {},
   "source": [
    "# Evaluation"
   ]
  },
  {
   "cell_type": "markdown",
   "id": "723c6604",
   "metadata": {},
   "source": [
    "### What cannot be evaluated cannot be improved. If you prepared the data and built a model in the previous steps, you should be able to evaluate your model. This evaluation depends on the chosen model. For example, if your problem was classification, you can use methods for evaluating classification algorithms. Naturally, if your model is not of sufficient quality, it is better to go back to the previous steps and improve your model or data or data preparation methods and re-evaluate."
   ]
  },
  {
   "cell_type": "markdown",
   "id": "c696b713",
   "metadata": {},
   "source": [
    "#### __________________________________________________________________________________"
   ]
  },
  {
   "cell_type": "markdown",
   "id": "7d75c8f8",
   "metadata": {},
   "source": [
    "# Deploy"
   ]
  },
  {
   "cell_type": "markdown",
   "id": "f5785d78",
   "metadata": {},
   "source": [
    "### Finally, you need to develop software so that users can benefit from your efforts. This step is usually done with the help of software engineers and programmers"
   ]
  }
 ],
 "metadata": {
  "kernelspec": {
   "display_name": "Python 3 (ipykernel)",
   "language": "python",
   "name": "python3"
  },
  "language_info": {
   "codemirror_mode": {
    "name": "ipython",
    "version": 3
   },
   "file_extension": ".py",
   "mimetype": "text/x-python",
   "name": "python",
   "nbconvert_exporter": "python",
   "pygments_lexer": "ipython3",
   "version": "3.11.5"
  }
 },
 "nbformat": 4,
 "nbformat_minor": 5
}
