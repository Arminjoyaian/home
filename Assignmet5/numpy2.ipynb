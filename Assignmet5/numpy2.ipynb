{
 "cells": [
  {
   "cell_type": "code",
   "execution_count": 3,
   "id": "7a1e8e14",
   "metadata": {},
   "outputs": [
    {
     "name": "stdout",
     "output_type": "stream",
     "text": [
      "Requirement already satisfied: numpy in c:\\users\\lenovo\\.android\\new folder\\lib\\site-packages (1.24.3)\n",
      "Note: you may need to restart the kernel to use updated packages.\n"
     ]
    }
   ],
   "source": [
    "pip install numpy"
   ]
  },
  {
   "cell_type": "code",
   "execution_count": 4,
   "id": "cc42e3bc",
   "metadata": {},
   "outputs": [],
   "source": [
    "import numpy as np"
   ]
  },
  {
   "cell_type": "code",
   "execution_count": 8,
   "id": "b53886d8",
   "metadata": {},
   "outputs": [
    {
     "name": "stdout",
     "output_type": "stream",
     "text": [
      "Enter a name :lili\n",
      "Enter a name :Armin\n",
      "Enter a name :ali\n",
      "Enter a name :mina\n",
      "Enter a name :liana\n"
     ]
    },
    {
     "data": {
      "text/plain": [
       "['lili', 'Armin', 'ali', 'mina', 'liana']"
      ]
     },
     "execution_count": 8,
     "metadata": {},
     "output_type": "execute_result"
    }
   ],
   "source": [
    "n1 = input(\"Enter a name :\")\n",
    "n2 = input(\"Enter a name :\")\n",
    "n3 = input(\"Enter a name :\")\n",
    "n4 = input(\"Enter a name :\")\n",
    "n5 = input(\"Enter a name :\")\n",
    "list1 = [n1 , n2 , n3 , n4 , n5]\n",
    "list1"
   ]
  },
  {
   "cell_type": "code",
   "execution_count": 11,
   "id": "ffc749ed",
   "metadata": {},
   "outputs": [
    {
     "name": "stdout",
     "output_type": "stream",
     "text": [
      "Enter a dars :ریاضی\n",
      "Enter a dars :علوم\n",
      "Enter a dars :شیمی\n",
      "Enter a dars :جغرافیا\n",
      "Enter a dars :فیزیک\n",
      "Enter a dars :دینی\n",
      "Enter a dars :هندسه\n",
      "Enter a dars :زیست\n",
      "Enter a dars :ورزش\n",
      "Enter a dars :عربی\n"
     ]
    },
    {
     "data": {
      "text/plain": [
       "['ریاضی',\n",
       " 'علوم',\n",
       " 'شیمی',\n",
       " 'جغرافیا',\n",
       " 'فیزیک',\n",
       " 'دینی',\n",
       " 'هندسه',\n",
       " 'زیست',\n",
       " 'ورزش',\n",
       " 'عربی']"
      ]
     },
     "execution_count": 11,
     "metadata": {},
     "output_type": "execute_result"
    }
   ],
   "source": [
    "list2 = []\n",
    "for i in range(10):\n",
    "    dars = input(\"Enter a dars :\")\n",
    "    list2.append(dars)\n",
    "list2"
   ]
  },
  {
   "cell_type": "code",
   "execution_count": 16,
   "id": "e799ce73",
   "metadata": {},
   "outputs": [
    {
     "ename": "TypeError",
     "evalue": "Field elements must be 2- or 3-tuples, got '['ریاضی', 'علوم', 'شیمی', 'جغرافیا', 'فیزیک', 'دینی', 'هندسه', 'زیست', 'ورزش', 'عربی']'",
     "output_type": "error",
     "traceback": [
      "\u001b[1;31m---------------------------------------------------------------------------\u001b[0m",
      "\u001b[1;31mTypeError\u001b[0m                                 Traceback (most recent call last)",
      "Cell \u001b[1;32mIn[16], line 1\u001b[0m\n\u001b[1;32m----> 1\u001b[0m list3\u001b[38;5;241m=\u001b[39m np\u001b[38;5;241m.\u001b[39marray([n1],[list2])\n\u001b[0;32m      2\u001b[0m list3\n",
      "\u001b[1;31mTypeError\u001b[0m: Field elements must be 2- or 3-tuples, got '['ریاضی', 'علوم', 'شیمی', 'جغرافیا', 'فیزیک', 'دینی', 'هندسه', 'زیست', 'ورزش', 'عربی']'"
     ]
    }
   ],
   "source": [
    "list3= np.array([n1],[list2])\n",
    "list3"
   ]
  },
  {
   "cell_type": "code",
   "execution_count": 18,
   "id": "d203098c",
   "metadata": {},
   "outputs": [
    {
     "name": "stdout",
     "output_type": "stream",
     "text": [
      "Enter a nomre :20\n",
      "Enter a nomre :20\n",
      "Enter a nomre :19\n",
      "Enter a nomre :18\n",
      "Enter a nomre :20\n",
      "Enter a nomre :19\n",
      "Enter a nomre :20\n",
      "Enter a nomre :18\n",
      "Enter a nomre :17\n",
      "Enter a nomre :20\n"
     ]
    },
    {
     "data": {
      "text/plain": [
       "['20', '20', '19', '18', '20', '19', '20', '18', '17', '20']"
      ]
     },
     "execution_count": 18,
     "metadata": {},
     "output_type": "execute_result"
    }
   ],
   "source": [
    "list4 = []\n",
    "for i in range(10):\n",
    "    nomre= input(\"Enter a nomre :\")\n",
    "    list4.append(nomre)\n",
    "list4"
   ]
  },
  {
   "cell_type": "code",
   "execution_count": 22,
   "id": "1514ef4c",
   "metadata": {},
   "outputs": [
    {
     "ename": "SyntaxError",
     "evalue": "'[' was never closed (2164510146.py, line 1)",
     "output_type": "error",
     "traceback": [
      "\u001b[1;36m  Cell \u001b[1;32mIn[22], line 1\u001b[1;36m\u001b[0m\n\u001b[1;33m    arr =np.array[[[list1],[list2],[list4]]\u001b[0m\n\u001b[1;37m                 ^\u001b[0m\n\u001b[1;31mSyntaxError\u001b[0m\u001b[1;31m:\u001b[0m '[' was never closed\n"
     ]
    }
   ],
   "source": [
    "arr =np.array[[[list1],[list2],[list4]]]\n",
    "arr"
   ]
  },
  {
   "cell_type": "code",
   "execution_count": null,
   "id": "cb896d97",
   "metadata": {},
   "outputs": [],
   "source": []
  }
 ],
 "metadata": {
  "kernelspec": {
   "display_name": "Python 3 (ipykernel)",
   "language": "python",
   "name": "python3"
  },
  "language_info": {
   "codemirror_mode": {
    "name": "ipython",
    "version": 3
   },
   "file_extension": ".py",
   "mimetype": "text/x-python",
   "name": "python",
   "nbconvert_exporter": "python",
   "pygments_lexer": "ipython3",
   "version": "3.11.5"
  }
 },
 "nbformat": 4,
 "nbformat_minor": 5
}
